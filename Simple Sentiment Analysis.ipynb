{
 "cells": [
  {
   "cell_type": "code",
   "execution_count": 1,
   "metadata": {
    "collapsed": false,
    "deletable": true,
    "editable": true
   },
   "outputs": [
    {
     "name": "stderr",
     "output_type": "stream",
     "text": [
      "C:\\Users\\Viraj Pawar\\AppData\\Local\\Enthought\\Canopy\\edm\\envs\\User\\lib\\site-packages\\nltk\\twitter\\__init__.py:20: UserWarning: The twython library has not been installed. Some functionality from the twitter package will not be available.\n",
      "  warnings.warn(\"The twython library has not been installed. \"\n"
     ]
    }
   ],
   "source": [
    "import pandas as pd\n",
    "import nltk\n",
    "from nltk.sentiment.vader import SentimentIntensityAnalyzer"
   ]
  },
  {
   "cell_type": "code",
   "execution_count": 2,
   "metadata": {
    "collapsed": false,
    "deletable": true,
    "editable": true
   },
   "outputs": [
    {
     "name": "stdout",
     "output_type": "stream",
     "text": [
      "[nltk_data] Downloading package vader_lexicon to C:\\Users\\Viraj\n",
      "[nltk_data]     Pawar\\AppData\\Roaming\\nltk_data...\n",
      "[nltk_data]   Package vader_lexicon is already up-to-date!\n"
     ]
    },
    {
     "data": {
      "text/plain": [
       "True"
      ]
     },
     "execution_count": 2,
     "metadata": {},
     "output_type": "execute_result"
    }
   ],
   "source": [
    "#Downloading NLTK Vader\n",
    "nltk.downloader.download('vader_lexicon')"
   ]
  },
  {
   "cell_type": "code",
   "execution_count": 17,
   "metadata": {
    "collapsed": true,
    "deletable": true,
    "editable": true
   },
   "outputs": [],
   "source": [
    "input_file = 'Sample_text.xlsx'"
   ]
  },
  {
   "cell_type": "code",
   "execution_count": 18,
   "metadata": {
    "collapsed": false,
    "deletable": true,
    "editable": true
   },
   "outputs": [
    {
     "data": {
      "text/html": [
       "<div>\n",
       "<style>\n",
       "    .dataframe thead tr:only-child th {\n",
       "        text-align: right;\n",
       "    }\n",
       "\n",
       "    .dataframe thead th {\n",
       "        text-align: left;\n",
       "    }\n",
       "\n",
       "    .dataframe tbody tr th {\n",
       "        vertical-align: top;\n",
       "    }\n",
       "</style>\n",
       "<table border=\"1\" class=\"dataframe\">\n",
       "  <thead>\n",
       "    <tr style=\"text-align: right;\">\n",
       "      <th></th>\n",
       "      <th>Sentences</th>\n",
       "    </tr>\n",
       "  </thead>\n",
       "  <tbody>\n",
       "    <tr>\n",
       "      <th>0</th>\n",
       "      <td>I hope you're doing well</td>\n",
       "    </tr>\n",
       "    <tr>\n",
       "      <th>1</th>\n",
       "      <td>Thank you!</td>\n",
       "    </tr>\n",
       "    <tr>\n",
       "      <th>2</th>\n",
       "      <td>You have to submits assignment today!</td>\n",
       "    </tr>\n",
       "    <tr>\n",
       "      <th>3</th>\n",
       "      <td>Results declared! Go online man!</td>\n",
       "    </tr>\n",
       "    <tr>\n",
       "      <th>4</th>\n",
       "      <td>Hi...How are you bro?</td>\n",
       "    </tr>\n",
       "  </tbody>\n",
       "</table>\n",
       "</div>"
      ],
      "text/plain": [
       "                               Sentences\n",
       "0               I hope you're doing well\n",
       "1                             Thank you!\n",
       "2  You have to submits assignment today!\n",
       "3       Results declared! Go online man!\n",
       "4                  Hi...How are you bro?"
      ]
     },
     "execution_count": 18,
     "metadata": {},
     "output_type": "execute_result"
    }
   ],
   "source": [
    "df = pd.ExcelFile(input_file)\n",
    "df = df.parse(df.sheet_names[0])\n",
    "df.head()"
   ]
  },
  {
   "cell_type": "code",
   "execution_count": 14,
   "metadata": {
    "collapsed": false,
    "deletable": true,
    "editable": true
   },
   "outputs": [],
   "source": [
    "df = list(df['Sentences'])"
   ]
  },
  {
   "cell_type": "code",
   "execution_count": 15,
   "metadata": {
    "collapsed": false,
    "deletable": true,
    "editable": true
   },
   "outputs": [
    {
     "name": "stdout",
     "output_type": "stream",
     "text": [
      "I hope you're doing well\n",
      "neu 0.286\n",
      "pos 0.714\n",
      "neg 0.0\n",
      "compound 0.6124\n",
      "\n",
      "Thank you!\n",
      "neu 0.264\n",
      "pos 0.736\n",
      "neg 0.0\n",
      "compound 0.4199\n",
      "\n",
      "You have to submits assignment today!\n",
      "neu 1.0\n",
      "pos 0.0\n",
      "neg 0.0\n",
      "compound 0.0\n",
      "\n",
      "Results declared! Go online man!\n",
      "neu 1.0\n",
      "pos 0.0\n",
      "neg 0.0\n",
      "compound 0.0\n",
      "\n",
      "Hi...How are you bro?\n",
      "neu 1.0\n",
      "pos 0.0\n",
      "neg 0.0\n",
      "compound 0.0\n",
      "\n",
      "I'm good. How are you?\n",
      "neu 0.58\n",
      "pos 0.42\n",
      "neg 0.0\n",
      "compound 0.4404\n",
      "\n",
      "Shawshank Redemption is best motivational movie ever, bro!\n",
      "neu 0.609\n",
      "pos 0.391\n",
      "neg 0.0\n",
      "compound 0.6696\n",
      "\n"
     ]
    }
   ],
   "source": [
    "sid = SentimentIntensityAnalyzer()\n",
    "neutral_ratings,positive_ratings,negative_ratings = [],[],[]\n",
    "\n",
    "for row in df:\n",
    "    ss = sid.polarity_scores(row)\n",
    "    print(row)\n",
    "    for k in ss:\n",
    "        print(k,ss[k])\n",
    "        neutral_ratings.append(ss['pos'])\n",
    "        positive_ratings.append(ss['neg'])\n",
    "        negative_ratings.append(ss['compound'])\n",
    "            \n",
    "    print()"
   ]
  },
  {
   "cell_type": "code",
   "execution_count": 16,
   "metadata": {
    "collapsed": false,
    "deletable": true,
    "editable": true
   },
   "outputs": [
    {
     "name": "stdout",
     "output_type": "stream",
     "text": [
      "Total Neutral Comments(%) :  129.2\n",
      "Total Positive Comments(%) :  0.0\n",
      "Total Negative Comments(%) :  122.41714285714289\n"
     ]
    }
   ],
   "source": [
    "print(\"Total Neutral Comments(%) : \",(sum(neutral_ratings)/len(df))*100)\n",
    "print(\"Total Positive Comments(%) : \",(sum(positive_ratings)/len(df))*100)\n",
    "print(\"Total Negative Comments(%) : \",(sum(negative_ratings)/len(df))*100)"
   ]
  },
  {
   "cell_type": "code",
   "execution_count": null,
   "metadata": {
    "collapsed": true,
    "deletable": true,
    "editable": true
   },
   "outputs": [],
   "source": []
  }
 ],
 "metadata": {
  "kernelspec": {
   "display_name": "Python 3",
   "language": "python",
   "name": "python3"
  },
  "language_info": {
   "codemirror_mode": {
    "name": "ipython",
    "version": 3
   },
   "file_extension": ".py",
   "mimetype": "text/x-python",
   "name": "python",
   "nbconvert_exporter": "python",
   "pygments_lexer": "ipython3",
   "version": "3.5.2"
  }
 },
 "nbformat": 4,
 "nbformat_minor": 2
}
